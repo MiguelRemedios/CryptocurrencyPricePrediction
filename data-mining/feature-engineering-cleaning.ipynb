{
 "cells": [
  {
   "cell_type": "code",
   "execution_count": 3,
   "id": "95138309",
   "metadata": {},
   "outputs": [],
   "source": [
    "import pandas as pd"
   ]
  },
  {
   "cell_type": "code",
   "execution_count": 46,
   "id": "c69e9559",
   "metadata": {},
   "outputs": [
    {
     "name": "stdout",
     "output_type": "stream",
     "text": [
      "29680\n",
      "23040\n"
     ]
    }
   ],
   "source": [
    "btc = pd.read_csv('bitcoin_data.csv')\n",
    "eth = pd.read_csv('ethereum_data.csv')\n",
    "\n",
    "print(btc.size)\n",
    "print(eth.size)"
   ]
  },
  {
   "cell_type": "code",
   "execution_count": 48,
   "id": "97cbc9b8",
   "metadata": {},
   "outputs": [
    {
     "name": "stdout",
     "output_type": "stream",
     "text": [
      "BTC:  Index(['Market Cap (GBP)', 'Total Volume'], dtype='object')\n",
      "ETH:  Index(['Market Cap (GBP)'], dtype='object')\n",
      "Market Cap (GBP)    69\n",
      "Total Volume        21\n",
      "dtype: int64\n"
     ]
    }
   ],
   "source": [
    "# Check for NA values\n",
    "na_values_btc = btc.isna().any()\n",
    "na_values_eth = eth.isna().any()\n",
    "\n",
    "# Print the columns with NA values\n",
    "print(\"BTC: \", na_values_btc[na_values_btc].index)\n",
    "print(\"ETH: \", na_values_eth[na_values_eth].index)\n",
    "\n",
    "# Count NA values in each column\n",
    "na_counts = btc.isna().sum()\n",
    "\n",
    "# Print columns with NA values\n",
    "print(na_counts[na_counts > 0])"
   ]
  },
  {
   "cell_type": "code",
   "execution_count": 57,
   "id": "9b3d4fd5",
   "metadata": {},
   "outputs": [
    {
     "name": "stdout",
     "output_type": "stream",
     "text": [
      "29128\n",
      "23032\n"
     ]
    }
   ],
   "source": [
    "# Remove records with NA values\n",
    "btc_cleaned = btc.dropna()\n",
    "eth_cleaned = eth.dropna()\n",
    "\n",
    "# Print the cleaned DataFrame\n",
    "print(btc_cleaned.size)\n",
    "print(eth_cleaned.size)"
   ]
  },
  {
   "cell_type": "code",
   "execution_count": 56,
   "id": "a852e515",
   "metadata": {},
   "outputs": [
    {
     "name": "stdout",
     "output_type": "stream",
     "text": [
      "27192\n",
      "23032\n"
     ]
    }
   ],
   "source": [
    "# Remove records where 'Total Volume' is 0\n",
    "btc_filtered = btc_cleaned[btc_cleaned['Total Volume'] != 0]\n",
    "# Remove records where 'Total Volume' is 0\n",
    "eth_filtered = eth_cleaned[eth_cleaned['Total Volume'] != 0]\n",
    "\n",
    "# Print the filtered DataFrame\n",
    "print(btc_filtered.size)\n",
    "# Print the filtered DataFrame\n",
    "print(eth_filtered.size)"
   ]
  },
  {
   "cell_type": "code",
   "execution_count": 61,
   "id": "7fbfcd5e",
   "metadata": {},
   "outputs": [
    {
     "data": {
      "text/html": [
       "<div>\n",
       "<style scoped>\n",
       "    .dataframe tbody tr th:only-of-type {\n",
       "        vertical-align: middle;\n",
       "    }\n",
       "\n",
       "    .dataframe tbody tr th {\n",
       "        vertical-align: top;\n",
       "    }\n",
       "\n",
       "    .dataframe thead th {\n",
       "        text-align: right;\n",
       "    }\n",
       "</style>\n",
       "<table border=\"1\" class=\"dataframe\">\n",
       "  <thead>\n",
       "    <tr style=\"text-align: right;\">\n",
       "      <th></th>\n",
       "      <th>ID</th>\n",
       "      <th>Date</th>\n",
       "      <th>Price (GBP)</th>\n",
       "      <th>Market Cap (GBP)</th>\n",
       "      <th>Total Volume</th>\n",
       "      <th>% 24hr Change</th>\n",
       "      <th>% 7d Change</th>\n",
       "      <th>Class</th>\n",
       "    </tr>\n",
       "  </thead>\n",
       "  <tbody>\n",
       "    <tr>\n",
       "      <th>242</th>\n",
       "      <td>243</td>\n",
       "      <td>2013-12-27 00:00:00</td>\n",
       "      <td>453.087000</td>\n",
       "      <td>5.519257e+09</td>\n",
       "      <td>3.880170e+07</td>\n",
       "      <td>-2.81</td>\n",
       "      <td>18.81</td>\n",
       "      <td>decrease</td>\n",
       "    </tr>\n",
       "    <tr>\n",
       "      <th>243</th>\n",
       "      <td>244</td>\n",
       "      <td>2013-12-28 00:00:00</td>\n",
       "      <td>443.243500</td>\n",
       "      <td>5.401144e+09</td>\n",
       "      <td>1.687134e+07</td>\n",
       "      <td>-2.17</td>\n",
       "      <td>18.88</td>\n",
       "      <td>decrease</td>\n",
       "    </tr>\n",
       "    <tr>\n",
       "      <th>244</th>\n",
       "      <td>245</td>\n",
       "      <td>2013-12-29 00:00:00</td>\n",
       "      <td>451.859600</td>\n",
       "      <td>5.507909e+09</td>\n",
       "      <td>1.680521e+07</td>\n",
       "      <td>1.94</td>\n",
       "      <td>19.45</td>\n",
       "      <td>increase</td>\n",
       "    </tr>\n",
       "    <tr>\n",
       "      <th>245</th>\n",
       "      <td>246</td>\n",
       "      <td>2013-12-30 00:00:00</td>\n",
       "      <td>457.693700</td>\n",
       "      <td>5.579252e+09</td>\n",
       "      <td>1.487517e+07</td>\n",
       "      <td>1.29</td>\n",
       "      <td>11.18</td>\n",
       "      <td>increase</td>\n",
       "    </tr>\n",
       "    <tr>\n",
       "      <th>246</th>\n",
       "      <td>247</td>\n",
       "      <td>2013-12-31 00:00:00</td>\n",
       "      <td>457.389300</td>\n",
       "      <td>5.575541e+09</td>\n",
       "      <td>1.326663e+07</td>\n",
       "      <td>-0.07</td>\n",
       "      <td>12.12</td>\n",
       "      <td>decrease</td>\n",
       "    </tr>\n",
       "    <tr>\n",
       "      <th>...</th>\n",
       "      <td>...</td>\n",
       "      <td>...</td>\n",
       "      <td>...</td>\n",
       "      <td>...</td>\n",
       "      <td>...</td>\n",
       "      <td>...</td>\n",
       "      <td>...</td>\n",
       "      <td>...</td>\n",
       "    </tr>\n",
       "    <tr>\n",
       "      <th>3705</th>\n",
       "      <td>3706</td>\n",
       "      <td>2023-06-22 00:00:00</td>\n",
       "      <td>23571.096637</td>\n",
       "      <td>4.573319e+11</td>\n",
       "      <td>1.860305e+10</td>\n",
       "      <td>6.20</td>\n",
       "      <td>18.93</td>\n",
       "      <td>increase</td>\n",
       "    </tr>\n",
       "    <tr>\n",
       "      <th>3706</th>\n",
       "      <td>3707</td>\n",
       "      <td>2023-06-23 00:00:00</td>\n",
       "      <td>23483.066477</td>\n",
       "      <td>4.561086e+11</td>\n",
       "      <td>1.538576e+10</td>\n",
       "      <td>-0.37</td>\n",
       "      <td>17.46</td>\n",
       "      <td>decrease</td>\n",
       "    </tr>\n",
       "    <tr>\n",
       "      <th>3707</th>\n",
       "      <td>3708</td>\n",
       "      <td>2023-06-24 00:00:00</td>\n",
       "      <td>24090.972707</td>\n",
       "      <td>4.675910e+11</td>\n",
       "      <td>1.780004e+10</td>\n",
       "      <td>2.59</td>\n",
       "      <td>17.35</td>\n",
       "      <td>increase</td>\n",
       "    </tr>\n",
       "    <tr>\n",
       "      <th>3708</th>\n",
       "      <td>3709</td>\n",
       "      <td>2023-06-25 00:00:00</td>\n",
       "      <td>24019.061630</td>\n",
       "      <td>4.663461e+11</td>\n",
       "      <td>9.230869e+09</td>\n",
       "      <td>-0.30</td>\n",
       "      <td>16.23</td>\n",
       "      <td>decrease</td>\n",
       "    </tr>\n",
       "    <tr>\n",
       "      <th>3709</th>\n",
       "      <td>3710</td>\n",
       "      <td>2023-06-25 17:08:59</td>\n",
       "      <td>24062.830201</td>\n",
       "      <td>4.671217e+11</td>\n",
       "      <td>7.952582e+09</td>\n",
       "      <td>0.18</td>\n",
       "      <td>17.23</td>\n",
       "      <td>increase</td>\n",
       "    </tr>\n",
       "  </tbody>\n",
       "</table>\n",
       "<p>3399 rows × 8 columns</p>\n",
       "</div>"
      ],
      "text/plain": [
       "        ID                 Date   Price (GBP)  Market Cap (GBP)  Total Volume  \\\n",
       "242    243  2013-12-27 00:00:00    453.087000      5.519257e+09  3.880170e+07   \n",
       "243    244  2013-12-28 00:00:00    443.243500      5.401144e+09  1.687134e+07   \n",
       "244    245  2013-12-29 00:00:00    451.859600      5.507909e+09  1.680521e+07   \n",
       "245    246  2013-12-30 00:00:00    457.693700      5.579252e+09  1.487517e+07   \n",
       "246    247  2013-12-31 00:00:00    457.389300      5.575541e+09  1.326663e+07   \n",
       "...    ...                  ...           ...               ...           ...   \n",
       "3705  3706  2023-06-22 00:00:00  23571.096637      4.573319e+11  1.860305e+10   \n",
       "3706  3707  2023-06-23 00:00:00  23483.066477      4.561086e+11  1.538576e+10   \n",
       "3707  3708  2023-06-24 00:00:00  24090.972707      4.675910e+11  1.780004e+10   \n",
       "3708  3709  2023-06-25 00:00:00  24019.061630      4.663461e+11  9.230869e+09   \n",
       "3709  3710  2023-06-25 17:08:59  24062.830201      4.671217e+11  7.952582e+09   \n",
       "\n",
       "      % 24hr Change  % 7d Change     Class  \n",
       "242           -2.81        18.81  decrease  \n",
       "243           -2.17        18.88  decrease  \n",
       "244            1.94        19.45  increase  \n",
       "245            1.29        11.18  increase  \n",
       "246           -0.07        12.12  decrease  \n",
       "...             ...          ...       ...  \n",
       "3705           6.20        18.93  increase  \n",
       "3706          -0.37        17.46  decrease  \n",
       "3707           2.59        17.35  increase  \n",
       "3708          -0.30        16.23  decrease  \n",
       "3709           0.18        17.23  increase  \n",
       "\n",
       "[3399 rows x 8 columns]"
      ]
     },
     "execution_count": 61,
     "metadata": {},
     "output_type": "execute_result"
    }
   ],
   "source": [
    "btc_filtered"
   ]
  },
  {
   "cell_type": "code",
   "execution_count": 62,
   "id": "cdc11d19",
   "metadata": {},
   "outputs": [],
   "source": [
    "# Export the DataFrame to a CSV file\n",
    "btc_filtered.to_csv('btc.csv', index=False)\n",
    "eth_filtered.to_csv('eth.csv', index=False)"
   ]
  }
 ],
 "metadata": {
  "kernelspec": {
   "display_name": "Python 3 (ipykernel)",
   "language": "python",
   "name": "python3"
  },
  "language_info": {
   "codemirror_mode": {
    "name": "ipython",
    "version": 3
   },
   "file_extension": ".py",
   "mimetype": "text/x-python",
   "name": "python",
   "nbconvert_exporter": "python",
   "pygments_lexer": "ipython3",
   "version": "3.11.3"
  }
 },
 "nbformat": 4,
 "nbformat_minor": 5
}
