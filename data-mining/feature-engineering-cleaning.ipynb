{
 "cells": [
  {
   "cell_type": "code",
   "execution_count": 3,
   "id": "95138309",
   "metadata": {},
   "outputs": [],
   "source": [
    "import pandas as pd"
   ]
  },
  {
   "cell_type": "code",
   "execution_count": 46,
   "id": "c69e9559",
   "metadata": {},
   "outputs": [
    {
     "name": "stdout",
     "output_type": "stream",
     "text": [
      "29680\n",
      "23040\n"
     ]
    }
   ],
   "source": [
    "btc = pd.read_csv('bitcoin_data.csv')\n",
    "eth = pd.read_csv('ethereum_data.csv')\n",
    "\n",
    "print(btc.size)\n",
    "print(eth.size)"
   ]
  },
  {
   "cell_type": "code",
   "execution_count": 48,
   "id": "c73de962",
   "metadata": {},
   "outputs": [
    {
     "name": "stdout",
     "output_type": "stream",
     "text": [
      "BTC:  Index(['Market Cap (GBP)', 'Total Volume'], dtype='object')\n",
      "ETH:  Index(['Market Cap (GBP)'], dtype='object')\n",
      "Market Cap (GBP)    69\n",
      "Total Volume        21\n",
      "dtype: int64\n"
     ]
    }
   ],
   "source": [
    "# Check for NA values\n",
    "na_values_btc = btc.isna().any()\n",
    "na_values_eth = eth.isna().any()\n",
    "\n",
    "# Print the columns with NA values\n",
    "print(\"BTC: \", na_values_btc[na_values_btc].index)\n",
    "print(\"ETH: \", na_values_eth[na_values_eth].index)\n",
    "\n",
    "# Count NA values in each column\n",
    "na_counts = btc.isna().sum()\n",
    "\n",
    "# Print columns with NA values\n",
    "print(na_counts[na_counts > 0])"
   ]
  },
  {
   "cell_type": "code",
   "execution_count": 57,
   "id": "98058ce6",
   "metadata": {},
   "outputs": [
    {
     "name": "stdout",
     "output_type": "stream",
     "text": [
      "29128\n",
      "23032\n"
     ]
    }
   ],
   "source": [
    "# Remove records with NA values\n",
    "btc_cleaned = btc.dropna()\n",
    "eth_cleaned = eth.dropna()\n",
    "\n",
    "# Print the cleaned DataFrame\n",
    "print(btc_cleaned.size)\n",
    "print(eth_cleaned.size)"
   ]
  },
  {
   "cell_type": "code",
   "execution_count": 56,
   "id": "4b22448b",
   "metadata": {},
   "outputs": [
    {
     "name": "stdout",
     "output_type": "stream",
     "text": [
      "27192\n",
      "23032\n"
     ]
    }
   ],
   "source": [
    "# Remove records where 'Total Volume' is 0\n",
    "btc_filtered = btc_cleaned[btc_cleaned['Total Volume'] != 0]\n",
    "# Remove records where 'Total Volume' is 0\n",
    "eth_filtered = eth_cleaned[eth_cleaned['Total Volume'] != 0]\n",
    "\n",
    "# Print the filtered DataFrame\n",
    "print(btc_filtered.size)\n",
    "# Print the filtered DataFrame\n",
    "print(eth_filtered.size)"
   ]
  }
 ],
 "metadata": {
  "kernelspec": {
   "display_name": "Python 3 (ipykernel)",
   "language": "python",
   "name": "python3"
  },
  "language_info": {
   "codemirror_mode": {
    "name": "ipython",
    "version": 3
   },
   "file_extension": ".py",
   "mimetype": "text/x-python",
   "name": "python",
   "nbconvert_exporter": "python",
   "pygments_lexer": "ipython3",
   "version": "3.11.3"
  }
 },
 "nbformat": 4,
 "nbformat_minor": 5
}
