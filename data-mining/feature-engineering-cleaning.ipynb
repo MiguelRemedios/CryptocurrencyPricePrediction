{
 "cells": [
  {
   "cell_type": "code",
   "execution_count": 1,
   "id": "95138309",
   "metadata": {},
   "outputs": [],
   "source": [
    "import pandas as pd"
   ]
  },
  {
   "cell_type": "code",
   "execution_count": 6,
   "id": "c69e9559",
   "metadata": {},
   "outputs": [
    {
     "name": "stdout",
     "output_type": "stream",
     "text": [
      "30048\n",
      "23408\n",
      "17296\n"
     ]
    }
   ],
   "source": [
    "btc = pd.read_csv('raw_data/btc_daily.csv')\n",
    "eth = pd.read_csv('raw_data/eth_daily.csv')\n",
    "btc_hourly = pd.read_csv('raw_data/btc_hr.csv')\n",
    "print(btc.size)\n",
    "print(eth.size)\n",
    "print(btc_hourly.size)"
   ]
  },
  {
   "cell_type": "code",
   "execution_count": 7,
   "id": "97cbc9b8",
   "metadata": {},
   "outputs": [
    {
     "name": "stdout",
     "output_type": "stream",
     "text": [
      "BTC:  Index(['Market Cap (GBP)', 'Total Volume'], dtype='object')\n",
      "ETH:  Index(['Market Cap (GBP)'], dtype='object')\n",
      "BTC HOURLY:  Index([], dtype='object')\n",
      "Market Cap (GBP)    69\n",
      "Total Volume        21\n",
      "dtype: int64\n"
     ]
    }
   ],
   "source": [
    "# Check for NA values\n",
    "na_values_btc = btc.isna().any()\n",
    "na_values_eth = eth.isna().any()\n",
    "na_values_btc_hourly = btc_hourly.isna().any()\n",
    "\n",
    "# Print the columns with NA values\n",
    "print(\"BTC: \", na_values_btc[na_values_btc].index)\n",
    "print(\"ETH: \", na_values_eth[na_values_eth].index)\n",
    "print(\"BTC HOURLY: \", na_values_btc_hourly[na_values_btc_hourly].index)\n",
    "\n",
    "# Count NA values in each column\n",
    "na_counts = btc.isna().sum()\n",
    "\n",
    "# Print columns with NA values\n",
    "print(na_counts[na_counts > 0])"
   ]
  },
  {
   "cell_type": "code",
   "execution_count": 8,
   "id": "9b3d4fd5",
   "metadata": {},
   "outputs": [
    {
     "name": "stdout",
     "output_type": "stream",
     "text": [
      "29496\n",
      "23400\n",
      "17296\n"
     ]
    }
   ],
   "source": [
    "# Remove records with NA values\n",
    "btc_cleaned = btc.dropna()\n",
    "eth_cleaned = eth.dropna()\n",
    "btc_hourly_cleaned = btc_hourly.dropna()\n",
    "\n",
    "\n",
    "# Print the cleaned DataFrame\n",
    "print(btc_cleaned.size)\n",
    "print(eth_cleaned.size)\n",
    "print(btc_hourly_cleaned.size)"
   ]
  },
  {
   "cell_type": "code",
   "execution_count": 9,
   "id": "a852e515",
   "metadata": {},
   "outputs": [
    {
     "name": "stdout",
     "output_type": "stream",
     "text": [
      "27560\n",
      "23400\n",
      "17296\n"
     ]
    }
   ],
   "source": [
    "# Remove records where 'Total Volume' is 0\n",
    "btc_filtered = btc_cleaned[btc_cleaned['Total Volume'] != 0]\n",
    "# Remove records where 'Total Volume' is 0\n",
    "eth_filtered = eth_cleaned[eth_cleaned['Total Volume'] != 0]\n",
    "btc_hr_filtered = btc_hourly_cleaned[btc_hourly_cleaned['Total Volume'] != 0]\n",
    "\n",
    "\n",
    "# Print the filtered DataFrame\n",
    "print(btc_filtered.size)\n",
    "# Print the filtered DataFrame\n",
    "print(eth_filtered.size)\n",
    "print(btc_hr_filtered.size)"
   ]
  },
  {
   "cell_type": "code",
   "execution_count": 10,
   "id": "7fbfcd5e",
   "metadata": {},
   "outputs": [
    {
     "data": {
      "text/html": [
       "<div>\n",
       "<style scoped>\n",
       "    .dataframe tbody tr th:only-of-type {\n",
       "        vertical-align: middle;\n",
       "    }\n",
       "\n",
       "    .dataframe tbody tr th {\n",
       "        vertical-align: top;\n",
       "    }\n",
       "\n",
       "    .dataframe thead th {\n",
       "        text-align: right;\n",
       "    }\n",
       "</style>\n",
       "<table border=\"1\" class=\"dataframe\">\n",
       "  <thead>\n",
       "    <tr style=\"text-align: right;\">\n",
       "      <th></th>\n",
       "      <th>ID</th>\n",
       "      <th>Date</th>\n",
       "      <th>Price (GBP)</th>\n",
       "      <th>Market Cap (GBP)</th>\n",
       "      <th>Total Volume</th>\n",
       "      <th>% 24hr Change</th>\n",
       "      <th>% 7d Change</th>\n",
       "      <th>Class</th>\n",
       "    </tr>\n",
       "  </thead>\n",
       "  <tbody>\n",
       "    <tr>\n",
       "      <th>242</th>\n",
       "      <td>243</td>\n",
       "      <td>2013-12-27 00:00:00</td>\n",
       "      <td>453.087000</td>\n",
       "      <td>5.519257e+09</td>\n",
       "      <td>3.880170e+07</td>\n",
       "      <td>-2.81</td>\n",
       "      <td>18.81</td>\n",
       "      <td>decrease</td>\n",
       "    </tr>\n",
       "    <tr>\n",
       "      <th>243</th>\n",
       "      <td>244</td>\n",
       "      <td>2013-12-28 00:00:00</td>\n",
       "      <td>443.243500</td>\n",
       "      <td>5.401144e+09</td>\n",
       "      <td>1.687134e+07</td>\n",
       "      <td>-2.17</td>\n",
       "      <td>18.88</td>\n",
       "      <td>decrease</td>\n",
       "    </tr>\n",
       "    <tr>\n",
       "      <th>244</th>\n",
       "      <td>245</td>\n",
       "      <td>2013-12-29 00:00:00</td>\n",
       "      <td>451.859600</td>\n",
       "      <td>5.507909e+09</td>\n",
       "      <td>1.680521e+07</td>\n",
       "      <td>1.94</td>\n",
       "      <td>19.45</td>\n",
       "      <td>increase</td>\n",
       "    </tr>\n",
       "    <tr>\n",
       "      <th>245</th>\n",
       "      <td>246</td>\n",
       "      <td>2013-12-30 00:00:00</td>\n",
       "      <td>457.693700</td>\n",
       "      <td>5.579252e+09</td>\n",
       "      <td>1.487517e+07</td>\n",
       "      <td>1.29</td>\n",
       "      <td>11.18</td>\n",
       "      <td>increase</td>\n",
       "    </tr>\n",
       "    <tr>\n",
       "      <th>246</th>\n",
       "      <td>247</td>\n",
       "      <td>2013-12-31 00:00:00</td>\n",
       "      <td>457.389300</td>\n",
       "      <td>5.575541e+09</td>\n",
       "      <td>1.326663e+07</td>\n",
       "      <td>-0.07</td>\n",
       "      <td>12.12</td>\n",
       "      <td>decrease</td>\n",
       "    </tr>\n",
       "    <tr>\n",
       "      <th>...</th>\n",
       "      <td>...</td>\n",
       "      <td>...</td>\n",
       "      <td>...</td>\n",
       "      <td>...</td>\n",
       "      <td>...</td>\n",
       "      <td>...</td>\n",
       "      <td>...</td>\n",
       "      <td>...</td>\n",
       "    </tr>\n",
       "    <tr>\n",
       "      <th>3751</th>\n",
       "      <td>3752</td>\n",
       "      <td>2023-08-07 00:00:00</td>\n",
       "      <td>22780.444127</td>\n",
       "      <td>4.430576e+11</td>\n",
       "      <td>4.204269e+09</td>\n",
       "      <td>-0.02</td>\n",
       "      <td>0.02</td>\n",
       "      <td>decrease</td>\n",
       "    </tr>\n",
       "    <tr>\n",
       "      <th>3752</th>\n",
       "      <td>3753</td>\n",
       "      <td>2023-08-08 00:00:00</td>\n",
       "      <td>22827.523894</td>\n",
       "      <td>4.439718e+11</td>\n",
       "      <td>1.036785e+10</td>\n",
       "      <td>0.21</td>\n",
       "      <td>0.22</td>\n",
       "      <td>increase</td>\n",
       "    </tr>\n",
       "    <tr>\n",
       "      <th>3753</th>\n",
       "      <td>3754</td>\n",
       "      <td>2023-08-09 00:00:00</td>\n",
       "      <td>23365.669458</td>\n",
       "      <td>4.545645e+11</td>\n",
       "      <td>1.145827e+10</td>\n",
       "      <td>2.36</td>\n",
       "      <td>1.25</td>\n",
       "      <td>increase</td>\n",
       "    </tr>\n",
       "    <tr>\n",
       "      <th>3754</th>\n",
       "      <td>3755</td>\n",
       "      <td>2023-08-10 00:00:00</td>\n",
       "      <td>23259.430260</td>\n",
       "      <td>4.525084e+11</td>\n",
       "      <td>1.150437e+10</td>\n",
       "      <td>-0.45</td>\n",
       "      <td>1.51</td>\n",
       "      <td>decrease</td>\n",
       "    </tr>\n",
       "    <tr>\n",
       "      <th>3755</th>\n",
       "      <td>3756</td>\n",
       "      <td>2023-08-10 16:19:21</td>\n",
       "      <td>23140.944640</td>\n",
       "      <td>4.503207e+11</td>\n",
       "      <td>9.478974e+09</td>\n",
       "      <td>-0.51</td>\n",
       "      <td>0.85</td>\n",
       "      <td>decrease</td>\n",
       "    </tr>\n",
       "  </tbody>\n",
       "</table>\n",
       "<p>3445 rows × 8 columns</p>\n",
       "</div>"
      ],
      "text/plain": [
       "        ID                 Date   Price (GBP)  Market Cap (GBP)  Total Volume  \\\n",
       "242    243  2013-12-27 00:00:00    453.087000      5.519257e+09  3.880170e+07   \n",
       "243    244  2013-12-28 00:00:00    443.243500      5.401144e+09  1.687134e+07   \n",
       "244    245  2013-12-29 00:00:00    451.859600      5.507909e+09  1.680521e+07   \n",
       "245    246  2013-12-30 00:00:00    457.693700      5.579252e+09  1.487517e+07   \n",
       "246    247  2013-12-31 00:00:00    457.389300      5.575541e+09  1.326663e+07   \n",
       "...    ...                  ...           ...               ...           ...   \n",
       "3751  3752  2023-08-07 00:00:00  22780.444127      4.430576e+11  4.204269e+09   \n",
       "3752  3753  2023-08-08 00:00:00  22827.523894      4.439718e+11  1.036785e+10   \n",
       "3753  3754  2023-08-09 00:00:00  23365.669458      4.545645e+11  1.145827e+10   \n",
       "3754  3755  2023-08-10 00:00:00  23259.430260      4.525084e+11  1.150437e+10   \n",
       "3755  3756  2023-08-10 16:19:21  23140.944640      4.503207e+11  9.478974e+09   \n",
       "\n",
       "      % 24hr Change  % 7d Change     Class  \n",
       "242           -2.81        18.81  decrease  \n",
       "243           -2.17        18.88  decrease  \n",
       "244            1.94        19.45  increase  \n",
       "245            1.29        11.18  increase  \n",
       "246           -0.07        12.12  decrease  \n",
       "...             ...          ...       ...  \n",
       "3751          -0.02         0.02  decrease  \n",
       "3752           0.21         0.22  increase  \n",
       "3753           2.36         1.25  increase  \n",
       "3754          -0.45         1.51  decrease  \n",
       "3755          -0.51         0.85  decrease  \n",
       "\n",
       "[3445 rows x 8 columns]"
      ]
     },
     "execution_count": 10,
     "metadata": {},
     "output_type": "execute_result"
    }
   ],
   "source": [
    "btc_filtered"
   ]
  },
  {
   "cell_type": "code",
   "execution_count": 62,
   "id": "cdc11d19",
   "metadata": {},
   "outputs": [],
   "source": [
    "# Export the DataFrame to a CSV file\n",
    "btc_filtered.to_csv('btc_daily_filtered.csv', index=False)\n",
    "eth_filtered.to_csv('eth_daily_filtered.csv', index=False)"
   ]
  }
 ],
 "metadata": {
  "kernelspec": {
   "display_name": "Python 3 (ipykernel)",
   "language": "python",
   "name": "python3"
  },
  "language_info": {
   "codemirror_mode": {
    "name": "ipython",
    "version": 3
   },
   "file_extension": ".py",
   "mimetype": "text/x-python",
   "name": "python",
   "nbconvert_exporter": "python",
   "pygments_lexer": "ipython3",
   "version": "3.11.3"
  }
 },
 "nbformat": 4,
 "nbformat_minor": 5
}
