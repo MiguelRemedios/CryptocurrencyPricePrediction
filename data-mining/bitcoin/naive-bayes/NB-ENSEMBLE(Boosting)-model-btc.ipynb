{
 "cells": [
  {
   "cell_type": "code",
   "execution_count": 1,
   "id": "4c72cc3d",
   "metadata": {
    "scrolled": false
   },
   "outputs": [],
   "source": [
    "import pandas as pd\n",
    "from sklearn.preprocessing import StandardScaler\n",
    "from sklearn.model_selection import train_test_split\n",
    "from sklearn.naive_bayes import GaussianNB, MultinomialNB, ComplementNB\n",
    "from sklearn.ensemble import AdaBoostClassifier\n",
    "from sklearn.metrics import accuracy_score\n",
    "import numpy as np \n",
    "import matplotlib.pyplot as plt\n",
    "\n",
    "btc_data = pd.read_csv('../btc.csv')"
   ]
  },
  {
   "cell_type": "code",
   "execution_count": 2,
   "id": "5c58cac8",
   "metadata": {},
   "outputs": [
    {
     "name": "stdout",
     "output_type": "stream",
     "text": [
      "Encoded Label: 0 --> Original Class: decrease\n",
      "Encoded Label: 1 --> Original Class: increase\n"
     ]
    },
    {
     "data": {
      "text/html": [
       "<div>\n",
       "<style scoped>\n",
       "    .dataframe tbody tr th:only-of-type {\n",
       "        vertical-align: middle;\n",
       "    }\n",
       "\n",
       "    .dataframe tbody tr th {\n",
       "        vertical-align: top;\n",
       "    }\n",
       "\n",
       "    .dataframe thead th {\n",
       "        text-align: right;\n",
       "    }\n",
       "</style>\n",
       "<table border=\"1\" class=\"dataframe\">\n",
       "  <thead>\n",
       "    <tr style=\"text-align: right;\">\n",
       "      <th></th>\n",
       "      <th>ID</th>\n",
       "      <th>Date</th>\n",
       "      <th>Price (GBP)</th>\n",
       "      <th>Market Cap (GBP)</th>\n",
       "      <th>Total Volume</th>\n",
       "      <th>% 24hr Change</th>\n",
       "      <th>% 7d Change</th>\n",
       "      <th>Class</th>\n",
       "    </tr>\n",
       "  </thead>\n",
       "  <tbody>\n",
       "    <tr>\n",
       "      <th>0</th>\n",
       "      <td>243</td>\n",
       "      <td>2013-12-27 00:00:00</td>\n",
       "      <td>453.087000</td>\n",
       "      <td>5.519257e+09</td>\n",
       "      <td>3.880170e+07</td>\n",
       "      <td>-2.81</td>\n",
       "      <td>18.81</td>\n",
       "      <td>0</td>\n",
       "    </tr>\n",
       "    <tr>\n",
       "      <th>1</th>\n",
       "      <td>244</td>\n",
       "      <td>2013-12-28 00:00:00</td>\n",
       "      <td>443.243500</td>\n",
       "      <td>5.401144e+09</td>\n",
       "      <td>1.687134e+07</td>\n",
       "      <td>-2.17</td>\n",
       "      <td>18.88</td>\n",
       "      <td>0</td>\n",
       "    </tr>\n",
       "    <tr>\n",
       "      <th>2</th>\n",
       "      <td>245</td>\n",
       "      <td>2013-12-29 00:00:00</td>\n",
       "      <td>451.859600</td>\n",
       "      <td>5.507909e+09</td>\n",
       "      <td>1.680521e+07</td>\n",
       "      <td>1.94</td>\n",
       "      <td>19.45</td>\n",
       "      <td>1</td>\n",
       "    </tr>\n",
       "    <tr>\n",
       "      <th>3</th>\n",
       "      <td>246</td>\n",
       "      <td>2013-12-30 00:00:00</td>\n",
       "      <td>457.693700</td>\n",
       "      <td>5.579252e+09</td>\n",
       "      <td>1.487517e+07</td>\n",
       "      <td>1.29</td>\n",
       "      <td>11.18</td>\n",
       "      <td>1</td>\n",
       "    </tr>\n",
       "    <tr>\n",
       "      <th>4</th>\n",
       "      <td>247</td>\n",
       "      <td>2013-12-31 00:00:00</td>\n",
       "      <td>457.389300</td>\n",
       "      <td>5.575541e+09</td>\n",
       "      <td>1.326663e+07</td>\n",
       "      <td>-0.07</td>\n",
       "      <td>12.12</td>\n",
       "      <td>0</td>\n",
       "    </tr>\n",
       "    <tr>\n",
       "      <th>...</th>\n",
       "      <td>...</td>\n",
       "      <td>...</td>\n",
       "      <td>...</td>\n",
       "      <td>...</td>\n",
       "      <td>...</td>\n",
       "      <td>...</td>\n",
       "      <td>...</td>\n",
       "      <td>...</td>\n",
       "    </tr>\n",
       "    <tr>\n",
       "      <th>3394</th>\n",
       "      <td>3706</td>\n",
       "      <td>2023-06-22 00:00:00</td>\n",
       "      <td>23571.096637</td>\n",
       "      <td>4.573319e+11</td>\n",
       "      <td>1.860305e+10</td>\n",
       "      <td>6.20</td>\n",
       "      <td>18.93</td>\n",
       "      <td>1</td>\n",
       "    </tr>\n",
       "    <tr>\n",
       "      <th>3395</th>\n",
       "      <td>3707</td>\n",
       "      <td>2023-06-23 00:00:00</td>\n",
       "      <td>23483.066477</td>\n",
       "      <td>4.561086e+11</td>\n",
       "      <td>1.538576e+10</td>\n",
       "      <td>-0.37</td>\n",
       "      <td>17.46</td>\n",
       "      <td>0</td>\n",
       "    </tr>\n",
       "    <tr>\n",
       "      <th>3396</th>\n",
       "      <td>3708</td>\n",
       "      <td>2023-06-24 00:00:00</td>\n",
       "      <td>24090.972707</td>\n",
       "      <td>4.675910e+11</td>\n",
       "      <td>1.780004e+10</td>\n",
       "      <td>2.59</td>\n",
       "      <td>17.35</td>\n",
       "      <td>1</td>\n",
       "    </tr>\n",
       "    <tr>\n",
       "      <th>3397</th>\n",
       "      <td>3709</td>\n",
       "      <td>2023-06-25 00:00:00</td>\n",
       "      <td>24019.061630</td>\n",
       "      <td>4.663461e+11</td>\n",
       "      <td>9.230869e+09</td>\n",
       "      <td>-0.30</td>\n",
       "      <td>16.23</td>\n",
       "      <td>0</td>\n",
       "    </tr>\n",
       "    <tr>\n",
       "      <th>3398</th>\n",
       "      <td>3710</td>\n",
       "      <td>2023-06-25 17:08:59</td>\n",
       "      <td>24062.830201</td>\n",
       "      <td>4.671217e+11</td>\n",
       "      <td>7.952582e+09</td>\n",
       "      <td>0.18</td>\n",
       "      <td>17.23</td>\n",
       "      <td>1</td>\n",
       "    </tr>\n",
       "  </tbody>\n",
       "</table>\n",
       "<p>3399 rows × 8 columns</p>\n",
       "</div>"
      ],
      "text/plain": [
       "        ID                 Date   Price (GBP)  Market Cap (GBP)  Total Volume  \\\n",
       "0      243  2013-12-27 00:00:00    453.087000      5.519257e+09  3.880170e+07   \n",
       "1      244  2013-12-28 00:00:00    443.243500      5.401144e+09  1.687134e+07   \n",
       "2      245  2013-12-29 00:00:00    451.859600      5.507909e+09  1.680521e+07   \n",
       "3      246  2013-12-30 00:00:00    457.693700      5.579252e+09  1.487517e+07   \n",
       "4      247  2013-12-31 00:00:00    457.389300      5.575541e+09  1.326663e+07   \n",
       "...    ...                  ...           ...               ...           ...   \n",
       "3394  3706  2023-06-22 00:00:00  23571.096637      4.573319e+11  1.860305e+10   \n",
       "3395  3707  2023-06-23 00:00:00  23483.066477      4.561086e+11  1.538576e+10   \n",
       "3396  3708  2023-06-24 00:00:00  24090.972707      4.675910e+11  1.780004e+10   \n",
       "3397  3709  2023-06-25 00:00:00  24019.061630      4.663461e+11  9.230869e+09   \n",
       "3398  3710  2023-06-25 17:08:59  24062.830201      4.671217e+11  7.952582e+09   \n",
       "\n",
       "      % 24hr Change  % 7d Change  Class  \n",
       "0             -2.81        18.81      0  \n",
       "1             -2.17        18.88      0  \n",
       "2              1.94        19.45      1  \n",
       "3              1.29        11.18      1  \n",
       "4             -0.07        12.12      0  \n",
       "...             ...          ...    ...  \n",
       "3394           6.20        18.93      1  \n",
       "3395          -0.37        17.46      0  \n",
       "3396           2.59        17.35      1  \n",
       "3397          -0.30        16.23      0  \n",
       "3398           0.18        17.23      1  \n",
       "\n",
       "[3399 rows x 8 columns]"
      ]
     },
     "execution_count": 2,
     "metadata": {},
     "output_type": "execute_result"
    }
   ],
   "source": [
    "from sklearn.preprocessing import LabelEncoder\n",
    "\n",
    "# Assuming you have a target label column named 'target' in your DataFrame\n",
    "label_encoder = LabelEncoder()\n",
    "btc_data['Class'] = label_encoder.fit_transform(btc_data['Class'])\n",
    "\n",
    "# Get the mapping between the encoded labels and the original classes\n",
    "label_mapping = dict(zip(range(len(label_encoder.classes_)), label_encoder.classes_))\n",
    "\n",
    "# Print the mapping\n",
    "for encoded_label, original_class in label_mapping.items():\n",
    "    print(f\"Encoded Label: {encoded_label} --> Original Class: {original_class}\")\n",
    "    \n",
    "btc_data"
   ]
  },
  {
   "cell_type": "code",
   "execution_count": 3,
   "id": "fa4ec805",
   "metadata": {},
   "outputs": [],
   "source": [
    "selected_columns= btc_data.iloc[:, [2, 3, 4, 5, 6, 7]]\n",
    "\n",
    "# Split the data into features (X) and target label (y)\n",
    "X= selected_columns.iloc[:, :-1]  # Features (columns 2, 3, 4)\n",
    "y= selected_columns.iloc[:, -1]   # Target label (column 7)# Standardize the data"
   ]
  },
  {
   "cell_type": "code",
   "execution_count": 4,
   "id": "5e3d7d60",
   "metadata": {},
   "outputs": [],
   "source": [
    "from sklearn.preprocessing import MinMaxScaler\n",
    "\n",
    "# Normalize the data\n",
    "scaler = MinMaxScaler()\n",
    "X_normalized = scaler.fit_transform(X)"
   ]
  },
  {
   "cell_type": "code",
   "execution_count": 5,
   "id": "fa04996a",
   "metadata": {},
   "outputs": [],
   "source": [
    "#NB MODEL\n",
    "X_train, X_test, y_train, y_test = train_test_split(X_normalized, y, test_size=0.3, random_state=42)"
   ]
  },
  {
   "cell_type": "code",
   "execution_count": 17,
   "id": "94a6c881",
   "metadata": {},
   "outputs": [
    {
     "name": "stdout",
     "output_type": "stream",
     "text": [
      "Accuracy: 0.942156862745098\n",
      "\n",
      "Cross-Validation Scores:\n",
      " [0.93235294 0.92941176 0.89117647 0.90882353 0.95       0.92647059\n",
      " 0.91470588 0.85       0.66470588 0.92920354]\n",
      "\n",
      "Mean Accuracy: 0.889685059864654\n"
     ]
    },
    {
     "name": "stderr",
     "output_type": "stream",
     "text": [
      "/Users/miguelremedios/opt/anaconda3/envs/thesis/lib/python3.11/site-packages/sklearn/ensemble/_base.py:166: FutureWarning: `base_estimator` was renamed to `estimator` in version 1.2 and will be removed in 1.4.\n",
      "  warnings.warn(\n"
     ]
    }
   ],
   "source": [
    "from sklearn.model_selection import cross_val_score\n",
    "\n",
    "# Initialize the base classifier (naive Bayes in this case)\n",
    "base_classifier = GaussianNB()\n",
    "\n",
    "# Initialize the AdaBoost classifier\n",
    "boosted_classifier = AdaBoostClassifier(base_estimator=base_classifier, n_estimators=64, random_state=42)\n",
    "\n",
    "# Train the boosted classifier\n",
    "boosted_classifier.fit(X_train, y_train)\n",
    "\n",
    "# Make predictions on the testing set\n",
    "y_pred = boosted_classifier.predict(X_test)\n",
    "\n",
    "# Calculate accuracy\n",
    "accuracy = accuracy_score(y_test, y_pred)\n",
    "print(\"Accuracy:\", accuracy)\n",
    "\n",
    "# Perform cross-validation\n",
    "cv_scores = cross_val_score(base_classifier, X_normalized, y, cv=10)  # 5-fold cross-validation\n",
    "\n",
    "# Print the cross-validation scores\n",
    "print(\"\\nCross-Validation Scores:\\n\", cv_scores)\n",
    "print(\"\\nMean Accuracy:\", np.mean(cv_scores))"
   ]
  },
  {
   "cell_type": "code",
   "execution_count": 7,
   "id": "a1893d72",
   "metadata": {},
   "outputs": [
    {
     "data": {
      "image/png": "[encoded data removed]",
      "text/plain": [
       "<Figure size 640x480 with 1 Axes>"
      ]
     },
     "metadata": {},
     "output_type": "display_data"
    }
   ],
   "source": [
    "# Plot the cross-validation scores\n",
    "plt.plot(np.arange(1, 11), cv_scores, marker='o')\n",
    "plt.xlabel('Fold')\n",
    "plt.ylabel('Accuracy')\n",
    "plt.title('Cross-Validation Scores')\n",
    "plt.ylim([0, 1])  # Set the y-axis limits\n",
    "plt.show()"
   ]
  },
  {
   "cell_type": "code",
   "execution_count": 8,
   "id": "7593c257",
   "metadata": {},
   "outputs": [
    {
     "data": {
      "image/png": "[encoded data removed]",
      "text/plain": [
       "<Figure size 800x600 with 1 Axes>"
      ]
     },
     "metadata": {},
     "output_type": "display_data"
    }
   ],
   "source": [
    "import numpy as np\n",
    "import matplotlib.pyplot as plt\n",
    "import seaborn as sns\n",
    "from sklearn.metrics import confusion_matrix, accuracy_score\n",
    "\n",
    "# Assuming you have predicted labels stored in y_pred and true labels stored in y_test\n",
    "\n",
    "# Compute the confusion matrix\n",
    "cm = confusion_matrix(y_test, y_pred)\n",
    "\n",
    "# Calculate accuracy score\n",
    "accuracy = accuracy_score(y_test, y_pred)\n",
    "\n",
    "# Create a heatmap for the confusion matrix\n",
    "plt.figure(figsize=(8, 6))\n",
    "sns.heatmap(cm, annot=True, fmt='d', cmap='Blues', cbar=False)\n",
    "plt.title(f'Confusion Matrix (Accuracy: {accuracy:.3f})')\n",
    "plt.xlabel('Predicted')\n",
    "plt.ylabel('Actual')\n",
    "plt.show()"
   ]
  },
  {
   "cell_type": "code",
   "execution_count": 9,
   "id": "c97bacaf",
   "metadata": {},
   "outputs": [
    {
     "name": "stdout",
     "output_type": "stream",
     "text": [
      "Precision: 0.944\n",
      "Recall: 0.942\n",
      "F1 Score: 0.942\n"
     ]
    }
   ],
   "source": [
    "from sklearn.metrics import precision_score, recall_score, f1_score\n",
    "\n",
    "# Assuming you have predicted labels stored in y_pred and true labels stored in y_test\n",
    "\n",
    "# Calculate precision, recall, and F1 score\n",
    "precision = precision_score(y_test, y_pred, average='weighted')\n",
    "recall = recall_score(y_test, y_pred, average='weighted')\n",
    "f1 = f1_score(y_test, y_pred, average='weighted')\n",
    "\n",
    "# Print the evaluation metrics\n",
    "print(f'Precision: {precision:.3f}')\n",
    "print(f'Recall: {recall:.3f}')\n",
    "print(f'F1 Score: {f1:.3f}')\n"
   ]
  }
 ],
 "metadata": {
  "kernelspec": {
   "display_name": "Python 3 (ipykernel)",
   "language": "python",
   "name": "python3"
  },
  "language_info": {
   "codemirror_mode": {
    "name": "ipython",
    "version": 3
   },
   "file_extension": ".py",
   "mimetype": "text/x-python",
   "name": "python",
   "nbconvert_exporter": "python",
   "pygments_lexer": "ipython3",
   "version": "3.11.3"
  }
 },
 "nbformat": 4,
 "nbformat_minor": 5
}
